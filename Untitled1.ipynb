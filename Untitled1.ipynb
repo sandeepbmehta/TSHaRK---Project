{
 "cells": [
  {
   "cell_type": "code",
   "execution_count": null,
   "metadata": {},
   "outputs": [],
   "source": [
    "#pull one state\n",
    "crimefile_df = crimefile_df.loc[crimefile_df[\"jurisdiction\"]==\"ARIZONA\",:]\n",
    "crimefile_df.head(1)\n",
    "\n",
    "#pull one year\n",
    "\n",
    "election2000_df [\"Year\"] = 2000 \n",
    "election2000_df.head()\n",
    "\n",
    "\n",
    "#sum = df['budget'] + df['actual']  # a Series\n",
    "# and\n",
    "#df['variance'] = df['budget'] + df['actual']  # assigned to a column\n",
    "\n",
    "# Create Floats\n",
    "election2000_df[\"Other Party\"] = election2000_df['Kerry.1'] + election2000_df['Other.1']\n",
    "\n",
    "election2000_df['Other.1'] = election2000_df['Other.1'].str.replace(',','').astype(float)\n",
    "election2000_df['Nader.1'] = election2000_df['Nader.1'].str.replace(',','').astype(float)\n",
    "election2000_df['Bush.1'] = election2000_df['Bush.1'].str.replace(',','').astype(float)\n",
    "election2000_df['Gore.1'] = election2000_df['Gore.1'].str.replace(',','').astype(float)\n",
    "election2000_df['Total Vote'] = election2000_df['Total Vote'].str.replace(',','').astype(float)\n",
    "election2004_df.head(1)\n"
   ]
  },
  {
   "cell_type": "code",
   "execution_count": null,
   "metadata": {},
   "outputs": [],
   "source": [
    "Df names\n",
    "election2000_df\n",
    "\n",
    "\n",
    "#identify and change column Total Vote\n",
    "columns = election2000_df.columns \n",
    "election2000_df.rename(columns ={'Total\\xa0Vote':'Total Vote'}, inplace = True)\n",
    "election2000_df.head(1)"
   ]
  },
  {
   "cell_type": "code",
   "execution_count": null,
   "metadata": {},
   "outputs": [],
   "source": [
    "#Read 2004 Election Data, create Year column, rename Total Vote, create Other Party column, Replace all str with floats\n",
    "#identify columns & Rename Total Vote \n",
    "#Change Columns from String to Floats\n",
    "#Rename Presidents to their Parties"
   ]
  }
 ],
 "metadata": {
  "kernelspec": {
   "display_name": "Python 3",
   "language": "python",
   "name": "python3"
  },
  "language_info": {
   "codemirror_mode": {
    "name": "ipython",
    "version": 3
   },
   "file_extension": ".py",
   "mimetype": "text/x-python",
   "name": "python",
   "nbconvert_exporter": "python",
   "pygments_lexer": "ipython3",
   "version": "3.6.8"
  }
 },
 "nbformat": 4,
 "nbformat_minor": 2
}
